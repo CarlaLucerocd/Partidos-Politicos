{
  "nbformat": 4,
  "nbformat_minor": 0,
  "metadata": {
    "colab": {
      "provenance": [],
      "authorship_tag": "ABX9TyNwU+qzl9Hg7o4SCg1vh6BB",
      "include_colab_link": true
    },
    "kernelspec": {
      "name": "python3",
      "display_name": "Python 3"
    },
    "language_info": {
      "name": "python"
    }
  },
  "cells": [
    {
      "cell_type": "markdown",
      "metadata": {
        "id": "view-in-github",
        "colab_type": "text"
      },
      "source": [
        "<a href=\"https://colab.research.google.com/github/CarlaLucerocd/Partidos-Politicos/blob/main/Partidos_Politicos.ipynb\" target=\"_parent\"><img src=\"https://colab.research.google.com/assets/colab-badge.svg\" alt=\"Open In Colab\"/></a>"
      ]
    },
    {
      "cell_type": "code",
      "execution_count": null,
      "metadata": {
        "id": "bf2oOdvyCRuu"
      },
      "outputs": [],
      "source": [
        "import requests #libreria para el requerimiento de la info\n",
        "import re #libreria para las expresiones regulares\n",
        "from collections import Counter\n",
        "import pandas as pd\n",
        "import numpy as np\n",
        "medios=[\"https://www.lavoz.com.ar/\",\"https://lmdiario.com.ar/\",\"https://hoydia.com.ar/\",\"https://www.cba24n.com.ar/\",\"https://www.clarin.com/\",\"https://www.lanacion.com.ar/\",\"https://www.pagina12.com.ar/\",\"https://www.infobae.com/\",\"https://www.perfil.com/\",\"https://www.ambito.com/\",\"https://www.cronica.com.ar/\",\"https://comercioyjusticia.info/\",\"https://www.cadena3.com/cordoba\",\"https://www.c5n.com/\"]\n",
        "def codigo_html(url):\n",
        "    headers = {\n",
        "        'user-agent': 'Mozilla/5.0 (X11; Linux x86_64) AppleWebKit/537.36 (KHTML, like Gecko) Chrome/84.0.4147.105 Safari/537.36'\n",
        "        }#evita que detecten que estamos tomando informacion\n",
        "    resp = requests.get(url, headers = headers) #descarga a resp la informacion del sitio\n",
        "    return resp.text #convierte en texto\n",
        "print(\"Partidos\")#lista los partidos por cada medio\n",
        "for partido in medios:\n",
        "  codigo_html(partido)\n",
        "  regla_de_busqueda =  r\"Hacemos Unidos por Córdoba|Juntos por el Cambio|Creo en Córdoba|Frente de Izquierda y de los Trabajadores Unidad|Nuevo Mas|Frente Liberal Democráta Desarrollista|Libertad Avanza de Córdoba|Encuentro Vecinal Córdoba|Partido Humanista\"\n",
        "  partidos= [m for m in re.findall(regla_de_busqueda, codigo_html(partido))]\n",
        "  print (partido)\n",
        "  #print (partidos)\n",
        "  test = Counter(partidos)\n",
        "  print (test)\n",
        "muestra={}#lista los partidos y los guarda en un diccionario\n",
        "for partido in medios:\n",
        "  codigo_html(partido)\n",
        "  regla_de_busqueda =  r'Hacemos Unidos por Córdoba|Juntos por el Cambio|Creo en Córdoba|Frente de Izquierda y de los Trabajadores Unidad |Nuevo Mas|Frente Liberal Democráta Desarrollista|Libertad Avanza de Córdoba|Encuentro Vecinal Córdoba|Partido Humanista'\n",
        "  partidos= [m for m in re.findall(regla_de_busqueda, codigo_html(partido))]\n",
        "  test = Counter(partidos)\n",
        "  for listado in partido:\n",
        "    muestra[partido]=test\n",
        "df1=pd.DataFrame(muestra)#convierte el diccionario en dataframe\n",
        "df1.columns = ['La Voz','La Mañana','Hoy dia Cordoba', 'Cba24', 'Clarin', 'La Nación', 'Pagina 12', 'Infobae', 'Perfil', 'Ambito', 'Cronica', 'Comercio y Justicia', 'Cadena3', 'C5N']#le ponemos titulos a las columnas\n",
        "df1['La Voz']=pd.to_numeric(df1['La Voz'],errors='coerce').astype('Int64')\n",
        "df1['La Mañana']=pd.to_numeric(df1['La Mañana'],errors='coerce').astype('Int64')\n",
        "df1['Hoy dia Cordoba']=pd.to_numeric(df1['Hoy dia Cordoba'],errors='coerce').astype('Int64')\n",
        "df1['Cba24']=pd.to_numeric(df1['Cba24'],errors='coerce').astype('Int64')\n",
        "df1['Clarin']=pd.to_numeric(df1['Clarin'],errors='coerce').astype('Int64')\n",
        "df1['La Nación']=pd.to_numeric(df1['La Nación'],errors='coerce').astype('Int64')\n",
        "df1['Infobae']=pd.to_numeric(df1['Infobae'],errors='coerce').astype('Int64')\n",
        "df1['Perfil']=pd.to_numeric(df1['Perfil'],errors='coerce').astype('Int64')\n",
        "df1['Ambito']=pd.to_numeric(df1['Ambito'],errors='coerce').astype('Int64')\n",
        "df1['Cronica']=pd.to_numeric(df1['Cronica'],errors='coerce').astype('Int64')\n",
        "df1['Comercio y Justicia']=pd.to_numeric(df1['Comercio y Justicia'],errors='coerce').astype('Int64')\n",
        "df1['Cadena3']=pd.to_numeric(df1['Cadena3'],errors='coerce').astype('Int64')\n",
        "\n",
        "df1['C5N']=pd.to_numeric(df1['C5N'],errors='coerce').astype('Int64')\n",
        "df1['Pagina 12']=pd.to_numeric(df1['Pagina 12'],errors='coerce').astype('Int64')\n",
        "df1.fillna(0)\n",
        "df1.to_csv()\n"
      ]
    }
  ]
}